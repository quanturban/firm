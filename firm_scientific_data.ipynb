{
 "cells": [
  {
   "cell_type": "code",
   "execution_count": 1,
   "metadata": {},
   "outputs": [],
   "source": [
    "import pandas as pd\n",
    "from collections import Counter"
   ]
  },
  {
   "cell_type": "code",
   "execution_count": 40,
   "metadata": {},
   "outputs": [],
   "source": [
    "indu_dict = {\n",
    "'农、林、牧、渔业': 1,\n",
    "'建筑业': 2,\n",
    "'电力、热力、燃气及水生产和供应业': 2,\n",
    "'采矿业': 2,\n",
    "'制造业': 2,\n",
    "'居民服务、修理和其他服务业': 3,\n",
    "'公共管理、社会保障和社会组织': 3,\n",
    "'交通运输、仓储和邮政业': 3,\n",
    "'信息传输、软件和信息技术服务业': 3,\n",
    "'住宿和餐饮业': 3,\n",
    "'租赁和商务服务业': 3,\n",
    "'教育': 3,\n",
    "'金融业': 3,\n",
    "'科学研究和技术服务业': 3,\n",
    "'房地产业': 3,\n",
    "'批发和零售业': 3,\n",
    "'文化、体育和娱乐业': 3,\n",
    "'卫生和社会工作': 3,\n",
    "'水利、环境和公共设施管理业': 3\n",
    "}\n",
    "\n",
    "stat_existence = ['开业', '成立', '在业', '存续', '在营', '正常']\n",
    "stat_exit = ['注销', '吊销', '撤销']\n",
    "\n",
    "# Chinese Company Registration Status Terms Glossary\n",
    "#ref: https://www.chinacheckup.com/blogs/articles/chinese-company-registration-status-terms-glossary"
   ]
  },
  {
   "cell_type": "code",
   "execution_count": 41,
   "metadata": {},
   "outputs": [
    {
     "name": "stdout",
     "output_type": "stream",
     "text": [
      "2005\n",
      "2006\n",
      "2007\n",
      "2008\n",
      "2009\n",
      "2010\n",
      "2011\n",
      "2012\n",
      "2013\n",
      "2014\n",
      "2015\n"
     ]
    }
   ],
   "source": [
    "for filename in range(2005, 2016):\n",
    "    print filename\n",
    "    rst = {}\n",
    "    dt = pd.read_csv('firm_' + str(filename) + '.csv', sep = '\\t')\n",
    "    N = len(dt)\n",
    "    for i in range(N):\n",
    "        stat = str(dt.iloc[i,-8])\n",
    "        esta_year = dt.iloc[i,-7][:4]\n",
    "        cate = str(dt.iloc[i,-5])\n",
    "        lat = float(dt.iloc[i,-2])\n",
    "        lon = float(dt.iloc[i,-1])\n",
    "        \n",
    "        if any(s in stat for s in stat_existence):\n",
    "            oper_dummy = 1\n",
    "        elif any(s in stat for s in stat_exit):\n",
    "            oper_dummy = 0\n",
    "        else:\n",
    "            oper_dummy = 'other'\n",
    "            \n",
    "        if cate in indu_dict:\n",
    "            indu_code = indu_dict[cate]\n",
    "        else:\n",
    "            indu_code = 'NaN'\n",
    "            \n",
    "        if (indu_code == 'NaN'):\n",
    "            continue\n",
    "            \n",
    "        geo_index = str(round(lon, 2)) + \"_\" + str(round(lat, 2))\n",
    "        if geo_index not in rst:\n",
    "            rst[geo_index] = {}\n",
    "            rst[geo_index][1] = []\n",
    "            rst[geo_index][0] = []\n",
    "            rst[geo_index]['other'] = []\n",
    "            rst[geo_index]['establish'] = 1 # establish\n",
    "            rst[geo_index]['industry'] = [indu_code]\n",
    "            rst[geo_index][oper_dummy].append(indu_code)\n",
    "                \n",
    "        else:\n",
    "            rst[geo_index]['establish'] += 1\n",
    "            rst[geo_index]['industry'].append(indu_code)\n",
    "            rst[geo_index][oper_dummy].append(indu_code)\n",
    "    \n",
    "    stat = []\n",
    "    for idx in rst:\n",
    "        lon, lat = idx.split('_')\n",
    "        establish_cnt = rst[idx]['establish']\n",
    "        indu_cnt = Counter(rst[idx]['industry'])\n",
    "        existence_cnt = len(rst[idx][1])\n",
    "        exit_cnt = len(rst[idx][0])\n",
    "        other_cnt = len(rst[idx]['other'])\n",
    "        existence_indu_cnt = Counter(rst[idx][1])\n",
    "        exit_indu_cnt = Counter(rst[idx][0])\n",
    "                \n",
    "        stat.append([idx, lon, lat, esta_year, establish_cnt, indu_cnt[1], indu_cnt[2], indu_cnt[3], \n",
    "                     existence_cnt, existence_indu_cnt[1], existence_indu_cnt[2], existence_indu_cnt[3],\n",
    "                     exit_cnt, exit_indu_cnt[1], exit_indu_cnt[2], exit_indu_cnt[3], other_cnt])\n",
    "    df = pd.DataFrame(stat, columns = ['idx', 'lon', 'lat', 'date', \n",
    "                                       'establish_total', 'establish_prim', 'establish_seco', 'establish_tert',\n",
    "                                       'exist_total', 'exist_prim', 'exist_seco', 'exist_tert',\n",
    "                                       'close_total', 'close_prim', 'close_seco', 'close_tert', 'other_total'])\n",
    "    df.to_csv('GFRD_' + str(filename) + 'v2.csv', index = False, header = False)"
   ]
  },
  {
   "cell_type": "code",
   "execution_count": 71,
   "metadata": {},
   "outputs": [],
   "source": [
    "# calculate the cancelled records\n",
    "dt = pd.read_csv('firm_2005.csv', sep = '\\t')\n",
    "dt['approved_time'] = dt['approved_time'].str.slice(0, 4)\n",
    "\n",
    "for k, v in dt.groupby('approved_time'):\n",
    "    cnt = 0\n",
    "    print k, len(v)\n",
    "    for i in range(len(v)):\n",
    "        stat = str(v.iloc[i,3])\n",
    "        if any(s in stat for s in stat_exit):\n",
    "            cnt += 1\n",
    "    print cnt"
   ]
  },
  {
   "cell_type": "code",
   "execution_count": null,
   "metadata": {},
   "outputs": [],
   "source": []
  }
 ],
 "metadata": {
  "kernelspec": {
   "display_name": "Python 2",
   "language": "python",
   "name": "python2"
  },
  "language_info": {
   "codemirror_mode": {
    "name": "ipython",
    "version": 2
   },
   "file_extension": ".py",
   "mimetype": "text/x-python",
   "name": "python",
   "nbconvert_exporter": "python",
   "pygments_lexer": "ipython2",
   "version": "2.7.16"
  }
 },
 "nbformat": 4,
 "nbformat_minor": 2
}
